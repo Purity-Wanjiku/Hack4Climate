{
 "cells": [
  {
   "cell_type": "code",
   "execution_count": 3,
   "metadata": {},
   "outputs": [],
   "source": [
    "# Installing requirements.\n",
    "#pip install ipykernel pandas matplotlib seaborn numpy scikit-learn"
   ]
  },
  {
   "cell_type": "code",
   "execution_count": 4,
   "metadata": {},
   "outputs": [],
   "source": [
    "# Saving required packages to text file. run this at the terminal.\n",
    "# pip freeze > requirements.txt"
   ]
  },
  {
   "cell_type": "markdown",
   "metadata": {},
   "source": [
    "# Hack4Climate Hackathon\n",
    "# CodeGreen Team\n",
    "`Members:` \n",
    "> 1. Purity Wanjiku: https://github.com/Purity-Wanjiku\n",
    "> 2. Ian Macharia: https://github.com/I-Macharia\n",
    "> 3. \n",
    "> 4. \n",
    "> 5. "
   ]
  },
  {
   "cell_type": "markdown",
   "metadata": {},
   "source": [
    "## Business Problem Statement\n",
    "The business problem at hand is to address the significant carbon emissions associated with cement production in Kenya, with a primary focus on companies like Bamburi Cement. The objective is to reduce these emissions and simultaneously create a sustainable solution that aligns with global environmental goals. This problem can be framed as follows:\n",
    ">> `Problem:` The cement industry in Kenya, exemplified by companies like Bamburi Cement with six other companies, faces a critical challenge of high carbon emissions during cement production, which has adverse environmental impacts.\n"
   ]
  },
  {
   "cell_type": "markdown",
   "metadata": {},
   "source": [
    "### Objective: \n",
    "#### To develop an innovative and sustainable solution for reducing carbon emissions in cement production while optimizing resource utilization and environmental impact."
   ]
  },
  {
   "cell_type": "markdown",
   "metadata": {},
   "source": [
    "The proposed solution aims to address the challenge of high carbon emissions in cement production while considering the advantages and limitations of both Direct Air Capture (DAC) and Carbon Capture and Storage (CCS) technologies. By taking a holistic approach, we can develop a more robust strategy for reducing emissions. This solution can be framed as follows:\n",
    "\n",
    ">> `Solution:` To develop a comprehensive approach that combines the advantages of both DAC and CCS technologies for mitigating carbon emissions in cement production in Kenya.\n",
    "\n",
    "#### Key Components of the Solution:\n",
    "\n",
    "Integration of DAC and CCS: Implement a system that integrates DAC technology to capture carbon emissions directly from the atmosphere and CCS technology to capture emissions at point sources within the cement production process.\n",
    "\n",
    "`Point Source Emissions:` Utilize CCS technology to capture CO2 emissions directly from point sources within the cement production facilities. This approach capitalizes on the relatively higher concentration of CO2 at point sources, making it more efficient.\n",
    "\n",
    "`Atmospheric Carbon Capture:` Implement DAC technology to capture carbon emissions directly from the atmosphere, thereby addressing emissions from the broader environment.\n",
    "\n",
    "`Conversion and Utilization:` The captured carbon can be processed and converted into a valuable byproduct or utilized in an eco-friendly manner within the cement production process, reducing the need for additional raw materials.\n",
    "\n",
    "#### Benefits of the Combined Approach: \n",
    "\n",
    "`Efficiency:` CCS technology captures CO2 efficiently from point sources, while DAC complements by addressing emissions from non-point sources, resulting in a more comprehensive solution.\n",
    "\n",
    "`Carbon Removal:` This approach allows for the removal of carbon emissions that have already entered the atmosphere, which can be particularly important in reducing the industry's historical carbon footprint.\n",
    "\n",
    "`Resource Optimization:` By reusing captured carbon in the production process, this approach can lead to resource cost savings and contribute to environmental responsibility.\n",
    "\n",
    "`Environmental Impact:` The combined solution offers a multi-pronged approach to reducing environmental impact, including lower carbon emissions and reduced resource extraction.\n",
    "\n",
    "`Flexibility:` The flexibility to capture emissions both at point sources and from the atmosphere ensures a versatile strategy adaptable to different cement production facilities.\n",
    "\n",
    "`Compliance and Sustainability:` This approach aligns with environmental regulations and sustainability goals, enhancing the company's reputation and market competitiveness.\n",
    "\n",
    "`Stakeholders:` Cement manufacturing companies, regulatory bodies, environmental organizations, local communities, and technology providers are the primary stakeholders in implementing this comprehensive solution."
   ]
  },
  {
   "cell_type": "markdown",
   "metadata": {},
   "source": [
    "#### `Measurable Success Criteria:`\n",
    ">> Success can be measured by reduced carbon emissions, cost savings, resource utilization efficiency, and the overall environmental impact of cement production facilities. \n",
    "\n",
    "By integrating DAC and CCS technologies in cement production, Kenya's cement industry can significantly reduce carbon emissions while optimizing resources and enhancing sustainability, aligning with both environmental and economic objectives."
   ]
  },
  {
   "cell_type": "markdown",
   "metadata": {},
   "source": [
    "### Data Understanding\n",
    "Data understanding is the process of exploring and interpreting data to identify patterns, trends, anomalies, and relationships. \n",
    "The data has been obtained from a repository on github by Our World in Data: https://ourworldindata.org/co2-and-greenhouse-gas-emissions and you can download it here: https://github.com/owid/co2-data\n"
   ]
  },
  {
   "cell_type": "code",
   "execution_count": null,
   "metadata": {},
   "outputs": [],
   "source": []
  },
  {
   "cell_type": "code",
   "execution_count": null,
   "metadata": {},
   "outputs": [],
   "source": []
  },
  {
   "cell_type": "code",
   "execution_count": null,
   "metadata": {},
   "outputs": [],
   "source": []
  },
  {
   "cell_type": "code",
   "execution_count": null,
   "metadata": {},
   "outputs": [],
   "source": []
  },
  {
   "cell_type": "code",
   "execution_count": null,
   "metadata": {},
   "outputs": [],
   "source": []
  },
  {
   "cell_type": "code",
   "execution_count": null,
   "metadata": {},
   "outputs": [],
   "source": []
  },
  {
   "cell_type": "code",
   "execution_count": null,
   "metadata": {},
   "outputs": [],
   "source": []
  },
  {
   "cell_type": "code",
   "execution_count": null,
   "metadata": {},
   "outputs": [],
   "source": []
  },
  {
   "cell_type": "code",
   "execution_count": null,
   "metadata": {},
   "outputs": [],
   "source": []
  }
 ],
 "metadata": {
  "kernelspec": {
   "display_name": "hack4climate",
   "language": "python",
   "name": "python3"
  },
  "language_info": {
   "codemirror_mode": {
    "name": "ipython",
    "version": 3
   },
   "file_extension": ".py",
   "mimetype": "text/x-python",
   "name": "python",
   "nbconvert_exporter": "python",
   "pygments_lexer": "ipython3",
   "version": "3.10.13"
  }
 },
 "nbformat": 4,
 "nbformat_minor": 2
}
